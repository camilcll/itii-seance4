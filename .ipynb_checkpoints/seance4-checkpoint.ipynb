{
 "cells": [
  {
   "cell_type": "markdown",
   "metadata": {},
   "source": [
    "#Seance 4"
   ]
  },
  {
   "cell_type": "markdown",
   "metadata": {},
   "source": [
    "Ex 1: Racine quatrième \n",
    "\n",
    "Pour un nombre réel a positif, il existe un unique réel b positif tel que b^n = a. Ce réel est appelé la racine n-ième de a (ou racine n-ième principale de a).\n",
    "\n",
    "1. Donner la fonction python racine(b,n,e) qui donne la racine n-eme de a avec une précision de e\n"
   ]
  },
  {
   "cell_type": "code",
   "execution_count": 18,
   "metadata": {},
   "outputs": [
    {
     "name": "stdout",
     "output_type": "stream",
     "text": [
      "2.0000009999256516\n",
      "4.0000039997036065\n"
     ]
    }
   ],
   "source": [
    "def rac(a,n,e):\n",
    "    r = e\n",
    "    while r**n < a:\n",
    "        r+=e\n",
    "    print(r)\n",
    "    return r\n",
    "\n",
    "r= rac(4,2,0.000001)\n",
    "print(r**2)"
   ]
  },
  {
   "cell_type": "markdown",
   "metadata": {},
   "source": [
    "Ex 2: Racine d'un polynome\n",
    "On appelle racine d'une polynome P une solution de l'équation (E): P(x)=0. \n",
    "\n",
    "On considère le trinome ax2+bx+c.\n",
    "\n",
    "Faire un algorithme pour trouver si il a des racines, combien, et calculer leur valeur. "
   ]
  },
  {
   "cell_type": "code",
   "execution_count": 36,
   "metadata": {},
   "outputs": [
    {
     "name": "stdout",
     "output_type": "stream",
     "text": [
      "Solutions de  1 x^2 + 10 x + 1 = 0\n",
      "Deux solutions : -9.898979485566356 et -0.10102051443364424\n",
      "None\n"
     ]
    }
   ],
   "source": [
    "from math import sqrt\n",
    "\n",
    "def rac(a, b, c):\n",
    "    print(\"Solutions de \", a, \"x^2 +\", b, \"x +\", c, \"= 0\")\n",
    "    if a == 0:\n",
    "        if b == 0:\n",
    "            if c == 0:\n",
    "                print (\"Tout r ́eel est solution\")\n",
    "            else :\n",
    "                print (\"Aucune solution\")\n",
    "        else :\n",
    "            x = (-c * 1.0) / b\n",
    "            print (\"Une solution :\", x)\n",
    "    else :\n",
    "        d = b * b - 4 * a * c\n",
    "        if(d == 0): \n",
    "            x = -b / (2.0 * a) \n",
    "            print (\"Une solution :\", x )\n",
    "        elif(d > 0):\n",
    "            r = sqrt(d) \n",
    "            x1 = (-b - r) / (2.0 * a) \n",
    "            x2 = (-b + r) / (2.0 * a)\n",
    "            print (\"Deux solutions :\", x1, \"et\", x2)\n",
    "        else :\n",
    "            print (\"Aucune solution\")\n",
    "\n",
    "print(rac(1,10,1))"
   ]
  },
  {
   "cell_type": "markdown",
   "metadata": {},
   "source": [
    "#Introduction a Sympy \n",
    " \n",
    "Le module Sympy  permet de faire du calcul symbolique. Par exemple, le nombre √8 est représenté par Python comme un flottant"
   ]
  },
  {
   "cell_type": "code",
   "execution_count": 14,
   "metadata": {},
   "outputs": [
    {
     "data": {
      "text/plain": [
       "2.8284271247461903"
      ]
     },
     "execution_count": 14,
     "metadata": {},
     "output_type": "execute_result"
    }
   ],
   "source": [
    "import math\n",
    "math.sqrt(8)"
   ]
  },
  {
   "cell_type": "markdown",
   "metadata": {},
   "source": [
    "L’avantage de Sympy est que √8 est gardé en tant racine et même automatiquement simplifié"
   ]
  },
  {
   "cell_type": "code",
   "execution_count": 18,
   "metadata": {},
   "outputs": [
    {
     "data": {
      "image/png": "[encoded data removed]",
      "text/latex": [
       "$\\displaystyle 2 \\sqrt{2}$"
      ],
      "text/plain": [
       "2⋅√2"
      ]
     },
     "execution_count": 18,
     "metadata": {},
     "output_type": "execute_result"
    }
   ],
   "source": [
    "from sympy import *\n",
    "\n",
    "init_printing()\n",
    "sqrt(8)"
   ]
  },
  {
   "cell_type": "markdown",
   "metadata": {},
   "source": [
    "Ex3 : Introduction\n",
    "Avant de pourvoir utiliser des variables symboliques, il faut les déclarer comme symboles:"
   ]
  },
  {
   "cell_type": "code",
   "execution_count": 19,
   "metadata": {},
   "outputs": [
    {
     "data": {
      "image/png": "[encoded data removed]",
      "text/latex": [
       "$\\displaystyle \\frac{\\varepsilon}{4} + x^{2} + 4 x + 4 y$"
      ],
      "text/plain": [
       "\\varepsilon    2            \n",
       "─────────── + x  + 4⋅x + 4⋅y\n",
       "     4                      "
      ]
     },
     "execution_count": 19,
     "metadata": {},
     "output_type": "execute_result"
    }
   ],
   "source": [
    "x = sp.Symbol(\"x\")# definit le symbole x\n",
    "y = sp.Symbol(\"y\", real=True)# définit la variable réelle y\n",
    "e = sp.Symbol(r\"\\varepsilon\", real=True, positive=True)# définit epsilon positif\n",
    "\n",
    "x + 2*y + e/4 + x**2 + 3*x + 2*y"
   ]
  },
  {
   "cell_type": "markdown",
   "metadata": {},
   "source": [
    "1. Lire la doc de la fonction solve et l’utiliser pour calculer les racines d’un polynôme général de degré deux, puis de degré trois\n",
    "2. Lire la documentation des fonction sevalf et N pour évaluer l’expression π^2/4\n",
    "3. Déterminer la partie réelle et imaginaire de l’expression : (1+i√3)^20 / 1+i\n",
    "4. Lire la documentation de la fonction diff et calculer la dérivée de xe^x^x^x par rapport à x.\n",
    "5. Calculer avec Sympy les limites suivantes :\n",
    " * L1= lim x→0 sin(x)/x,\n",
    " * L2= lim x→0 sin(1/x),"
   ]
  },
  {
   "cell_type": "code",
   "execution_count": 52,
   "metadata": {},
   "outputs": [
    {
     "name": "stdout",
     "output_type": "stream",
     "text": [
      "Eq(x**2 + 10*x + 1, 0) \n",
      " Eq(x**3 + 2*x**2 + 5*x - 3, 0)\n"
     ]
    },
    {
     "data": {
      "image/png": "[encoded data removed]",
      "text/latex": [
       "$\\displaystyle \\left[ \\left( -5 - 2 \\sqrt{6}\\right), \\  \\left( -5 + 2 \\sqrt{6}\\right)\\right]$"
      ],
      "text/plain": [
       "[(-5 - 2⋅√6,), (-5 + 2⋅√6,)]"
      ]
     },
     "execution_count": 52,
     "metadata": {},
     "output_type": "execute_result"
    }
   ],
   "source": [
    "import sympy as sym\n",
    "\n",
    "sym.init_printing()\n",
    "\n",
    "x = sym.symbols('x')\n",
    "\n",
    "eq2 = sym.Eq(x**2+10*x+1,0)\n",
    "eq3 = sym.Eq(x**3+2*x**2+5*x-3,0)\n",
    "print(eq2,\"\\n\",eq3)\n",
    "\n",
    "sym.solve([eq2],x)\n"
   ]
  },
  {
   "cell_type": "code",
   "execution_count": 53,
   "metadata": {
    "scrolled": true
   },
   "outputs": [
    {
     "data": {
      "image/png": "[encoded data removed]",
      "text/latex": [
       "$\\displaystyle \\left[ \\left( - \\frac{2}{3} + \\left(- \\frac{1}{2} - \\frac{\\sqrt{3} i}{2}\\right) \\sqrt[3]{\\frac{155}{54} + \\frac{\\sqrt{3261}}{18}} - \\frac{11}{9 \\left(- \\frac{1}{2} - \\frac{\\sqrt{3} i}{2}\\right) \\sqrt[3]{\\frac{155}{54} + \\frac{\\sqrt{3261}}{18}}}\\right), \\  \\left( - \\frac{2}{3} - \\frac{11}{9 \\left(- \\frac{1}{2} + \\frac{\\sqrt{3} i}{2}\\right) \\sqrt[3]{\\frac{155}{54} + \\frac{\\sqrt{3261}}{18}}} + \\left(- \\frac{1}{2} + \\frac{\\sqrt{3} i}{2}\\right) \\sqrt[3]{\\frac{155}{54} + \\frac{\\sqrt{3261}}{18}}\\right), \\  \\left( - \\frac{11}{9 \\sqrt[3]{\\frac{155}{54} + \\frac{\\sqrt{3261}}{18}}} - \\frac{2}{3} + \\sqrt[3]{\\frac{155}{54} + \\frac{\\sqrt{3261}}{18}}\\right)\\right]$"
      ],
      "text/plain": [
       "⎡⎛                       _____________                                    ⎞  ⎛\n",
       "⎢⎜  2   ⎛  1   √3⋅ⅈ⎞    ╱ 155   √3261                   11                ⎟  ⎜\n",
       "⎢⎜- ─ + ⎜- ─ - ────⎟⋅3 ╱  ─── + ─────  - ────────────────────────────────,⎟, ⎜\n",
       "⎢⎜  3   ⎝  2    2  ⎠ ╲╱    54     18                        _____________ ⎟  ⎜\n",
       "⎢⎜                                         ⎛  1   √3⋅ⅈ⎞    ╱ 155   √3261  ⎟  ⎜\n",
       "⎢⎜                                       9⋅⎜- ─ - ────⎟⋅3 ╱  ─── + ─────  ⎟  ⎜\n",
       "⎣⎝                                         ⎝  2    2  ⎠ ╲╱    54     18   ⎠  ⎝\n",
       "\n",
       "                                                          _____________ ⎞  ⎛  \n",
       "  2                  11                  ⎛  1   √3⋅ⅈ⎞    ╱ 155   √3261  ⎟  ⎜  \n",
       "- ─ - ──────────────────────────────── + ⎜- ─ + ────⎟⋅3 ╱  ─── + ───── ,⎟, ⎜- \n",
       "  3                      _____________   ⎝  2    2  ⎠ ╲╱    54     18   ⎟  ⎜  \n",
       "        ⎛  1   √3⋅ⅈ⎞    ╱ 155   √3261                                   ⎟  ⎜  \n",
       "      9⋅⎜- ─ + ────⎟⋅3 ╱  ─── + ─────                                   ⎟  ⎜  \n",
       "        ⎝  2    2  ⎠ ╲╱    54     18                                    ⎠  ⎝  \n",
       "\n",
       "                              _____________ ⎞⎤\n",
       "         11           2      ╱ 155   √3261  ⎟⎥\n",
       "─────────────────── - ─ + 3 ╱  ─── + ───── ,⎟⎥\n",
       "      _____________   3   ╲╱    54     18   ⎟⎥\n",
       "     ╱ 155   √3261                          ⎟⎥\n",
       "9⋅3 ╱  ─── + ─────                          ⎟⎥\n",
       "  ╲╱    54     18                           ⎠⎦"
      ]
     },
     "execution_count": 53,
     "metadata": {},
     "output_type": "execute_result"
    }
   ],
   "source": [
    "sym.solve([eq3],x)"
   ]
  },
  {
   "cell_type": "markdown",
   "metadata": {},
   "source": [
    "Ex 4 : Application\n",
    "Le but est d’utiliser Sympy pour résoudre symboliquement différents problèmes mathématiquesen \n",
    "1. Déterminer le nombre de zéro que contient l’entier 123!\n",
    "2. Déterminer le rapport entre la hauteur et le rayon d’un cylindre de manière à minimiser sonaire à volume fixé\n",
    "3. Pour x,y∈R tels que xy <1, démontrer que arctan(x) + arctan(y) = arctan(x+y/1−xy)\n",
    "\n",
    "    "
   ]
  }
 ],
 "metadata": {
  "kernelspec": {
   "display_name": "Python 3",
   "language": "python",
   "name": "python3"
  },
  "language_info": {
   "codemirror_mode": {
    "name": "ipython",
    "version": 3
   },
   "file_extension": ".py",
   "mimetype": "text/x-python",
   "name": "python",
   "nbconvert_exporter": "python",
   "pygments_lexer": "ipython3",
   "version": "3.8.3"
  }
 },
 "nbformat": 4,
 "nbformat_minor": 4
}
